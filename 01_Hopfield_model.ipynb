{
 "cells": [
  {
   "cell_type": "markdown",
   "id": "interstate-purse",
   "metadata": {},
   "source": [
    "This notebook replicates the main results from sec. 2.1 of [1], and in particular both plots shown in fig. 1.\n",
    "\n",
    "[1]: \"Scaling Laws of Associative Memory Retrieval\", Romani, Tsodyks et al., Neural Computation (2013)."
   ]
  },
  {
   "cell_type": "code",
   "execution_count": 1,
   "id": "institutional-ticket",
   "metadata": {},
   "outputs": [],
   "source": [
    "import numpy as np\n",
    "import matplotlib.pyplot as plt\n",
    "from mpl2latex import mpl2latex, latex_figsize\n",
    "from tqdm.notebook import tqdm"
   ]
  },
  {
   "cell_type": "code",
   "execution_count": 2,
   "id": "maritime-circumstances",
   "metadata": {},
   "outputs": [],
   "source": [
    "#---Parameters---#\n",
    "\n",
    "N = 3000 #Number of neurons\n",
    "L = 16 #Number of patterns\n",
    "\n",
    "f = 0.1 #Sparseness\n",
    "\n",
    "T = 0.015 #Thresholds are uniformely sampled from the interval [-T, T]\n",
    "init_thresholds = np.random.uniform(-T, T, size=N)\n",
    "\n",
    "n_steps = 1000\n",
    "ts = np.arange(n_steps) #time steps\n",
    "\n",
    "Tth = 30\n",
    "\n",
    "J0min = 0.6 #Minimum value for J0 (global inhibition)\n",
    "J0max = 1.2 #Maximum value for J0\n",
    "TJ0   = 25  #Period for J0 oscillations between min and max\n",
    "\n",
    "J0 = np.sin(2 * np.pi / TJ0 * ts) * (J0max - J0min) + J0min #(oscillating) global inhibition\n",
    "\n",
    "Dth = 4.2 * T #Strength of synaptic adaptation"
   ]
  },
  {
   "cell_type": "code",
   "execution_count": 3,
   "id": "regional-committee",
   "metadata": {},
   "outputs": [],
   "source": [
    "#Generate sparse patterns\n",
    "patterns = np.zeros((L, N), dtype=int)\n",
    "mask = np.random.uniform(0, 1, size=(L, N)) < f #patterns[mu, i] = 1 with probability f\n",
    "patterns[mask] = 1\n",
    "\n",
    "#Compute weights\n",
    "synaptic_mtx = 1./(N * f * (1.-f)) * ((patterns - f).T @ (patterns - f))"
   ]
  },
  {
   "cell_type": "markdown",
   "id": "synthetic-quality",
   "metadata": {},
   "source": [
    "**Dynamics**:\n",
    "$$\\begin{align}V_i(t+1) &= \\Theta\\Big(\\sum_{\\substack{j=1\\\\ j \\neq i}}^N \\mathrm{J}_{ij} V_j(t) - \\frac{J_0}{N f} \\sum_{j=1}^N V_j(t) -\\mathrm{th}_i(t)\\Big)\\\\\n",
    "\\mathrm{th}_i(t+1) &= \\mathrm{th}_i(t) - \\frac{\\mathrm{th}_i(t) - \\mathrm{th}_i(0) - D_{\\mathrm{th}} V_i(t)}{T_{\\mathrm{th}}}\n",
    "\\end{align}$$"
   ]
  },
  {
   "cell_type": "code",
   "execution_count": 4,
   "id": "viral-glenn",
   "metadata": {},
   "outputs": [],
   "source": [
    "def order_params(neuro_state):\n",
    "    \"\"\"\n",
    "    Compute the overlap of the @neuro_state with each of the L patterns.\n",
    "    \"\"\"\n",
    "    \n",
    "    return (patterns - f) @ neuro_state / (N * f * (1.-f))"
   ]
  },
  {
   "cell_type": "code",
   "execution_count": 5,
   "id": "hazardous-sweet",
   "metadata": {},
   "outputs": [
    {
     "data": {
      "application/vnd.jupyter.widget-view+json": {
       "model_id": "e15aec59dc4345a1bf62c5fb041ac66d",
       "version_major": 2,
       "version_minor": 0
      },
      "text/plain": [
       "  0%|          | 0/1000 [00:00<?, ?it/s]"
      ]
     },
     "metadata": {},
     "output_type": "display_data"
    }
   ],
   "source": [
    "#---Initialize---#\n",
    "curr_thresholds  = init_thresholds.copy()\n",
    "curr_neuro_state = patterns[0].copy() #initialize to 1st pattern\n",
    "\n",
    "neuro_order_states = np.zeros((L, n_steps)) #Store order parameters at each time here\n",
    "\n",
    "#---Simulate dynamics---#\n",
    "for idx, t in enumerate(tqdm(ts)):   \n",
    "    next_neuro_state = synaptic_mtx @ curr_neuro_state - J0[idx] / (N * f) * np.sum(curr_neuro_state) - curr_thresholds\n",
    "    next_neuro_state = np.heaviside(next_neuro_state, 0)\n",
    "    \n",
    "    curr_thresholds = curr_thresholds - (curr_thresholds - init_thresholds - Dth * curr_neuro_state) / Tth    \n",
    "    curr_neuro_state = next_neuro_state.copy()\n",
    "\n",
    "    neuro_order_states[:, idx] = order_params(curr_neuro_state)"
   ]
  },
  {
   "cell_type": "code",
   "execution_count": 6,
   "id": "adolescent-framework",
   "metadata": {},
   "outputs": [
    {
     "data": {
      "image/png": "[encoded data removed]",
      "text/plain": [
       "<Figure size 222.236x137.349 with 2 Axes>"
      ]
     },
     "metadata": {
      "needs_background": "light"
     },
     "output_type": "display_data"
    }
   ],
   "source": [
    "#Plot dynamics\n",
    "with mpl2latex(True):\n",
    "    fig, ax = plt.subplots(figsize=latex_figsize(wf=0.7, columnwidth=318.67))\n",
    "    plt.imshow(neuro_order_states, aspect='auto', cmap='jet', vmin=0, vmax=1)\n",
    "    plt.colorbar()\n",
    "    \n",
    "    \n",
    "    \n",
    "    ax.patch.set_facecolor('white')\n",
    "    plt.savefig(\"Plots/network_model.pdf\", transparent=True, bbox_inches='tight')\n",
    "    \n",
    "    plt.show()"
   ]
  },
  {
   "cell_type": "code",
   "execution_count": 8,
   "id": "blocked-forwarding",
   "metadata": {},
   "outputs": [
    {
     "data": {
      "image/png": "[encoded data removed]",
      "text/plain": [
       "<Figure size 222.236x137.349 with 2 Axes>"
      ]
     },
     "metadata": {
      "needs_background": "light"
     },
     "output_type": "display_data"
    }
   ],
   "source": [
    "#Plot overlaps\n",
    "with mpl2latex(True):\n",
    "    fig, ax = plt.subplots(figsize=latex_figsize(wf=0.7, columnwidth=318.67))\n",
    "    \n",
    "    overlaps = patterns @ patterns.T\n",
    "    average_entries = (np.sum(overlaps, axis=1) - np.diag(overlaps)) / (L - 1)\n",
    "    np.fill_diagonal(overlaps, average_entries) #Substitute in the diagonal the average value of the other entries\n",
    "    plt.imshow(overlaps, cmap='jet')\n",
    "    plt.colorbar()\n",
    "    \n",
    "    ax.patch.set_facecolor('white')\n",
    "    plt.savefig(\"Plots/network_overlaps.pdf\", transparent=True, bbox_inches='tight')"
   ]
  }
 ],
 "metadata": {
  "kernelspec": {
   "display_name": "Python 3",
   "language": "python",
   "name": "python3"
  },
  "language_info": {
   "codemirror_mode": {
    "name": "ipython",
    "version": 3
   },
   "file_extension": ".py",
   "mimetype": "text/x-python",
   "name": "python",
   "nbconvert_exporter": "python",
   "pygments_lexer": "ipython3",
   "version": "3.9.0"
  }
 },
 "nbformat": 4,
 "nbformat_minor": 5
}
