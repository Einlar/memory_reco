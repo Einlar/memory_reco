{
 "cells": [
  {
   "cell_type": "markdown",
   "id": "excited-cedar",
   "metadata": {},
   "source": [
    "This notebook replicates the main simulation from [1], and in particular reconstructs the plot (c) in fig. 1.\n",
    "\n",
    "[1]: \"Fundamental Law of Memory Recall\", Naim, Katkov et al., Phys. Rev. 12, 018101 (2020)"
   ]
  },
  {
   "cell_type": "code",
   "execution_count": 1,
   "id": "federal-upper",
   "metadata": {},
   "outputs": [],
   "source": [
    "import numpy as np\n",
    "import matplotlib.pyplot as plt\n",
    "\n",
    "from numba import njit, prange #Accelerator\n",
    "\n",
    "from p_tqdm import p_umap #Parallel processing\n",
    "\n",
    "from functools import partial\n",
    "\n",
    "from tqdm.notebook import tqdm\n",
    "\n",
    "from mpl2latex import mpl2latex, latex_figsize\n",
    "import pandas as pd\n",
    "\n",
    "import pickle"
   ]
  },
  {
   "cell_type": "code",
   "execution_count": 2,
   "id": "forbidden-refund",
   "metadata": {},
   "outputs": [],
   "source": [
    "@njit\n",
    "def simulate_sparse_dynamics(index, L = 100, N = 1000, f = 0.01):\n",
    "    \"\"\"\n",
    "    Builds a symmetric similarity matrix `sim` with discrete entries from overlaps of `L` sparse binary vectors of `N` neurons, \n",
    "    where each entry is 1 with probability `f`, and 0 otherwise.\n",
    "    \n",
    "    `sim` is then used to construct the transitions available from each node as follows:\n",
    "    - If a node `i` is visited, the next one will be `next_index[i]`,\n",
    "    which is given by the argmax of the `i`-th row of `sim` if it is unique, or one of the argmaxima chosen at random\n",
    "    if it is not unique.\n",
    "    - If `next_index[i]` coincides with the node visited right before `i` (contained in `prec_state[i]`), then a transition\n",
    "    to `second_next_index[i]` happens instead. This is given by the \"argsecondmax\", i.e. the index of the second maximum of the\n",
    "    `i`-th row of matrix `sim`, i.e. the highest item that is strictly lower than the max \n",
    "    (if there are multiple equivalent second maxima, then one of their indices is picked at random). \n",
    "    \n",
    "    Both `next_index` and `second_next_index` are fixed once at the start, and they fully define the dynamics on the graph.\n",
    "    `L` trials on the same graph are simulated at once, each starting from one of the `L` nodes. For each one of them, the\n",
    "    loop length is computed, and the average of these is returned.\n",
    "    \"\"\"\n",
    "    \n",
    "    #Compute similarity matrix\n",
    "    mtx = np.zeros((L, N))\n",
    "    mask = np.random.uniform(0., 1., size=(L, N)) < f\n",
    "    \n",
    "    for row_idx in range(mtx.shape[0]): #fill ones\n",
    "        mtx[row_idx][mask[row_idx]] = 1\n",
    "\n",
    "    sim = mtx @ mtx.T\n",
    "    np.fill_diagonal(sim, 0)\n",
    "\n",
    "    #assert np.all(np.any(sim[0].reshape(-1,1) == sim, axis=1)), \"A row must not be filled with all equal values\"\n",
    "    #There should be at least two different values in each row, or else the algorithm fails\n",
    "    \n",
    "    next_index = np.zeros(L, dtype=np.uint64)\n",
    "    second_next_index = np.zeros(L, dtype=np.uint64)\n",
    "    \n",
    "    for row_idx in range(mtx.shape[0]): #Extract highest and second highest index from each row\n",
    "        max_val = np.max(sim[row_idx])\n",
    "        max_idx = np.flatnonzero(sim[row_idx] == max_val) \n",
    "        \n",
    "        next_index[row_idx] = np.random.choice(max_idx)\n",
    "        \n",
    "        sim[row_idx][max_idx] = -1 #Remove max value. The new maximum is now the second highest value\n",
    "        max_val = np.max(sim[row_idx])\n",
    "        max_idx = np.flatnonzero(sim[row_idx] == max_val)\n",
    "        \n",
    "        second_next_index[row_idx] = np.random.choice(max_idx)\n",
    "        \n",
    "    #---Simulate dynamics---#\n",
    "    prec_state = np.zeros(L, dtype=np.uint64) #Initialize\n",
    "    curr_state = np.arange(L, dtype=np.uint64)\n",
    "\n",
    "    visited = np.eye(L, dtype=np.uint64) #Each row is a binary vector storing the visited elements of each trial\n",
    "\n",
    "    prec_tot_visited = 0 \n",
    "    curr_tot_visited = L #Total number of visited elements (sum over all trials) \n",
    "    \n",
    "    max_patience = 10 #If no new element is visited in any trial for this many iterations, then exit the loop and declare convergence\n",
    "    curr_patience = max_patience #Counter that decreases whenever no trial visits a new item during a whole iteration. If it reaches 0, the loop is terminated.\n",
    "    \n",
    "    n_iter = 0 #Counter for iterations\n",
    "\n",
    "    while True:\n",
    "        n_iter += 1\n",
    "\n",
    "        #Update\n",
    "        next_state = next_index[curr_state] \n",
    "        mask = (next_state == prec_state) #If a direct backward step has happened\n",
    "        next_state[mask] = second_next_index[curr_state][mask] #Correct it\n",
    "\n",
    "        prec_state, curr_state = curr_state, next_state #Advance\n",
    "        \n",
    "        for i in range(L):\n",
    "            visited[i][curr_state[i]] = 1\n",
    "        \n",
    "        curr_tot_visited = visited.sum()\n",
    "        \n",
    "        if curr_tot_visited > prec_tot_visited: #If some trial has visited a new element\n",
    "            curr_patience    = max_patience\n",
    "            prec_tot_visited = curr_tot_visited\n",
    "        else:\n",
    "            curr_patience -= 1\n",
    "\n",
    "        if curr_patience <= 0: #Exit condition\n",
    "            break\n",
    "\n",
    "    lengths = np.sum(visited, axis=1) \n",
    "\n",
    "    return np.mean(lengths)"
   ]
  },
  {
   "cell_type": "code",
   "execution_count": 3,
   "id": "aggregate-greeting",
   "metadata": {},
   "outputs": [],
   "source": [
    "@njit\n",
    "def simulate_sparse_dynamics_symm(L = 100):\n",
    "    \"\"\"\n",
    "    Builds a symmetric LxL similarity matrix `sim` with continuous entries by sampling `L(L-1)/2` random variables from\n",
    "    a uniform distribution between 0 and 10. These are used to fill the entries `S_{ij}` with `i >= j`. Then the entries\n",
    "    with `i < j` are fixed by the symmetry constraint `S_{ji} = S_{ij}`.\n",
    "    \n",
    "    `sim` is then used to construct the transitions available from each node as follows:\n",
    "    - If a node `i` is visited, the next one will be `next_index[i]`,\n",
    "    which is given by the argmax of the `i`-th row of `sim` if it is unique, or one of the argmaxima chosen at random\n",
    "    if it is not unique.\n",
    "    - If `next_index[i]` coincides with the node visited right before `i` (contained in `prec_state[i]`), then a transition\n",
    "    to `second_next_index[i]` happens instead. This is given by the \"argsecondmax\", i.e. the index of the second maximum of the\n",
    "    `i`-th row of matrix `sim`, i.e. the highest item that is strictly lower than the max \n",
    "    (if there are multiple equivalent second maxima, then one of their indices is picked at random). \n",
    "    \n",
    "    Both `next_index` and `second_next_index` are fixed once at the start, and they fully define the dynamics on the graph.\n",
    "    `L` trials on the same graph are simulated at once, each starting from one of the `L` nodes. For each one of them, the\n",
    "    loop length is computed, and the average of these is returned.\n",
    "    \"\"\"\n",
    "    \n",
    "    #Compute similarity matrix\n",
    "    mtx = np.random.uniform(0, 10, size=(L, L))\n",
    "    sim = np.tril(mtx) + np.tril(mtx, -1).T #Symmetrize\n",
    "    np.fill_diagonal(sim, 0) #Remove diagonal entries\n",
    "\n",
    "    next_index = np.zeros(L, dtype=np.uint64)\n",
    "    second_next_index = np.zeros(L, dtype=np.uint64)\n",
    "    \n",
    "    for row_idx in range(mtx.shape[0]): #Extract highest and second highest index from each row\n",
    "        max_val = np.max(sim[row_idx])\n",
    "        max_idx = np.flatnonzero(sim[row_idx] == max_val) \n",
    "        \n",
    "        next_index[row_idx] = np.random.choice(max_idx)\n",
    "        \n",
    "        sim[row_idx][max_idx] = -1 #Remove max value. The new maximum is now the second highest value\n",
    "        max_val = np.max(sim[row_idx])\n",
    "        max_idx = np.flatnonzero(sim[row_idx] == max_val)\n",
    "        \n",
    "        second_next_index[row_idx] = np.random.choice(max_idx)\n",
    "        \n",
    "    #---Simulate dynamics---#\n",
    "    prec_state = np.zeros(L, dtype=np.uint64) #Initialize\n",
    "    curr_state = np.arange(L, dtype=np.uint64)\n",
    "\n",
    "    visited = np.eye(L, dtype=np.uint64) #Each row is a binary vector storing the visited elements of each trial\n",
    "\n",
    "    prec_tot_visited = 0 \n",
    "    curr_tot_visited = L #Total number of visited elements (sum over all trials) \n",
    "    \n",
    "    max_patience = 10 #If no new element is visited in any trial for this many iterations, then exit the loop and declare convergence\n",
    "    curr_patience = max_patience #Counter that decreases whenever no trial visits a new item during a whole iteration. If it reaches 0, the loop is terminated.\n",
    "    \n",
    "    n_iter = 0 #Counter for iterations\n",
    "\n",
    "    while True:\n",
    "        n_iter += 1\n",
    "\n",
    "        #Update\n",
    "        next_state = next_index[curr_state] \n",
    "        mask = (next_state == prec_state) #If a direct backward step has happened\n",
    "        next_state[mask] = second_next_index[curr_state][mask] #Correct it\n",
    "\n",
    "        prec_state, curr_state = curr_state, next_state #Advance\n",
    "        \n",
    "        for i in range(L):\n",
    "            visited[i][curr_state[i]] = 1\n",
    "        \n",
    "        curr_tot_visited = visited.sum()\n",
    "        \n",
    "        if curr_tot_visited > prec_tot_visited: #If some trial has visited a new element\n",
    "            curr_patience    = max_patience\n",
    "            prec_tot_visited = curr_tot_visited\n",
    "        else:\n",
    "            curr_patience -= 1\n",
    "\n",
    "        if curr_patience <= 0: #Exit condition\n",
    "            break\n",
    "\n",
    "    lengths = np.sum(visited, axis=1) \n",
    "\n",
    "    return np.mean(lengths)"
   ]
  },
  {
   "cell_type": "code",
   "execution_count": 5,
   "id": "protected-ivory",
   "metadata": {},
   "outputs": [
    {
     "name": "stdout",
     "output_type": "stream",
     "text": [
      "17 ms ± 1.54 ms per loop (mean ± std. dev. of 7 runs, 1 loop each)\n"
     ]
    }
   ],
   "source": [
    "%timeit simulate_sparse_dynamics(1, L=100, N=10000, f=0.01) #Check timings"
   ]
  },
  {
   "cell_type": "code",
   "execution_count": null,
   "id": "rocky-prime",
   "metadata": {},
   "outputs": [],
   "source": [
    "# Parallel execution (unstable for large n_rep, crashes the environment for some reason)\n",
    "# @njit(parallel=True)\n",
    "# def test(L = 100, N = 10000, f = 0.01, n_rep=1000):\n",
    "#     s = [np.float(x) for x in range(0)]\n",
    "#     for i in prange(n_rep):\n",
    "#         s.append(simulate_sparse_dynamics(1, L=L, N=N, f=f))\n",
    "#     return s\n",
    "\n",
    "# %time arr = test(L = 100, N = 10000, f=0.01, n_rep=10000)"
   ]
  },
  {
   "cell_type": "code",
   "execution_count": 7,
   "id": "wanted-oriental",
   "metadata": {},
   "outputs": [
    {
     "data": {
      "application/vnd.jupyter.widget-view+json": {
       "model_id": "f7e68ad308c94299a96341889974140b",
       "version_major": 2,
       "version_minor": 0
      },
      "text/plain": [
       "  0%|          | 0/3 [00:00<?, ?it/s]"
      ]
     },
     "metadata": {},
     "output_type": "display_data"
    },
    {
     "name": "stdout",
     "output_type": "stream",
     "text": [
      "---f = 0.01---\n"
     ]
    },
    {
     "data": {
      "application/vnd.jupyter.widget-view+json": {
       "model_id": "7d4ee3e725a94e34a03bcfb55231392c",
       "version_major": 2,
       "version_minor": 0
      },
      "text/plain": [
       "  0%|          | 0/7 [00:00<?, ?it/s]"
      ]
     },
     "metadata": {},
     "output_type": "display_data"
    },
    {
     "name": "stdout",
     "output_type": "stream",
     "text": [
      "l = 8\n"
     ]
    },
    {
     "data": {
      "application/vnd.jupyter.widget-view+json": {
       "model_id": "2c3fa4f1f9ac4c449ec6433a2ce086d6",
       "version_major": 2,
       "version_minor": 0
      },
      "text/plain": [
       "  0%|          | 0/1000 [00:00<?, ?it/s]"
      ]
     },
     "metadata": {},
     "output_type": "display_data"
    },
    {
     "name": "stdout",
     "output_type": "stream",
     "text": [
      "l = 16\n"
     ]
    },
    {
     "data": {
      "application/vnd.jupyter.widget-view+json": {
       "model_id": "1cf6a9953d1145b3b4e90475e8edf96d",
       "version_major": 2,
       "version_minor": 0
      },
      "text/plain": [
       "  0%|          | 0/1000 [00:00<?, ?it/s]"
      ]
     },
     "metadata": {},
     "output_type": "display_data"
    },
    {
     "name": "stdout",
     "output_type": "stream",
     "text": [
      "l = 32\n"
     ]
    },
    {
     "data": {
      "application/vnd.jupyter.widget-view+json": {
       "model_id": "f3a8c3f64c044e1fb54927dd0eea938c",
       "version_major": 2,
       "version_minor": 0
      },
      "text/plain": [
       "  0%|          | 0/1000 [00:00<?, ?it/s]"
      ]
     },
     "metadata": {},
     "output_type": "display_data"
    },
    {
     "name": "stdout",
     "output_type": "stream",
     "text": [
      "l = 64\n"
     ]
    },
    {
     "data": {
      "application/vnd.jupyter.widget-view+json": {
       "model_id": "5914818337ee4d9993cbf736bb1190d9",
       "version_major": 2,
       "version_minor": 0
      },
      "text/plain": [
       "  0%|          | 0/1000 [00:00<?, ?it/s]"
      ]
     },
     "metadata": {},
     "output_type": "display_data"
    },
    {
     "name": "stdout",
     "output_type": "stream",
     "text": [
      "l = 128\n"
     ]
    },
    {
     "data": {
      "application/vnd.jupyter.widget-view+json": {
       "model_id": "64c20c0c45f548d1bf3639cba35c7a02",
       "version_major": 2,
       "version_minor": 0
      },
      "text/plain": [
       "  0%|          | 0/1000 [00:00<?, ?it/s]"
      ]
     },
     "metadata": {},
     "output_type": "display_data"
    },
    {
     "name": "stdout",
     "output_type": "stream",
     "text": [
      "l = 256\n"
     ]
    },
    {
     "data": {
      "application/vnd.jupyter.widget-view+json": {
       "model_id": "002c30504753448c860cf9956a1a2c1a",
       "version_major": 2,
       "version_minor": 0
      },
      "text/plain": [
       "  0%|          | 0/1000 [00:00<?, ?it/s]"
      ]
     },
     "metadata": {},
     "output_type": "display_data"
    },
    {
     "name": "stdout",
     "output_type": "stream",
     "text": [
      "l = 512\n"
     ]
    },
    {
     "data": {
      "application/vnd.jupyter.widget-view+json": {
       "model_id": "d1a94a109d2447459afb68601c85dd51",
       "version_major": 2,
       "version_minor": 0
      },
      "text/plain": [
       "  0%|          | 0/1000 [00:00<?, ?it/s]"
      ]
     },
     "metadata": {},
     "output_type": "display_data"
    },
    {
     "name": "stdout",
     "output_type": "stream",
     "text": [
      "---f = 0.05---\n"
     ]
    },
    {
     "data": {
      "application/vnd.jupyter.widget-view+json": {
       "model_id": "f88498d1047149a3b1a0ff6ff9f17ce6",
       "version_major": 2,
       "version_minor": 0
      },
      "text/plain": [
       "  0%|          | 0/7 [00:00<?, ?it/s]"
      ]
     },
     "metadata": {},
     "output_type": "display_data"
    },
    {
     "name": "stdout",
     "output_type": "stream",
     "text": [
      "l = 8\n"
     ]
    },
    {
     "data": {
      "application/vnd.jupyter.widget-view+json": {
       "model_id": "e868a54320f34b3e86984e2871097e36",
       "version_major": 2,
       "version_minor": 0
      },
      "text/plain": [
       "  0%|          | 0/1000 [00:00<?, ?it/s]"
      ]
     },
     "metadata": {},
     "output_type": "display_data"
    },
    {
     "name": "stdout",
     "output_type": "stream",
     "text": [
      "l = 16\n"
     ]
    },
    {
     "data": {
      "application/vnd.jupyter.widget-view+json": {
       "model_id": "1dcf8b34545440ee83217ddf6d5fbd71",
       "version_major": 2,
       "version_minor": 0
      },
      "text/plain": [
       "  0%|          | 0/1000 [00:00<?, ?it/s]"
      ]
     },
     "metadata": {},
     "output_type": "display_data"
    },
    {
     "name": "stdout",
     "output_type": "stream",
     "text": [
      "l = 32\n"
     ]
    },
    {
     "data": {
      "application/vnd.jupyter.widget-view+json": {
       "model_id": "bcfaf8b2677e4db88e3e3a4bf4218631",
       "version_major": 2,
       "version_minor": 0
      },
      "text/plain": [
       "  0%|          | 0/1000 [00:00<?, ?it/s]"
      ]
     },
     "metadata": {},
     "output_type": "display_data"
    },
    {
     "name": "stdout",
     "output_type": "stream",
     "text": [
      "l = 64\n"
     ]
    },
    {
     "data": {
      "application/vnd.jupyter.widget-view+json": {
       "model_id": "812a885492734133a7ba0e60a54425e6",
       "version_major": 2,
       "version_minor": 0
      },
      "text/plain": [
       "  0%|          | 0/1000 [00:00<?, ?it/s]"
      ]
     },
     "metadata": {},
     "output_type": "display_data"
    },
    {
     "name": "stdout",
     "output_type": "stream",
     "text": [
      "l = 128\n"
     ]
    },
    {
     "data": {
      "application/vnd.jupyter.widget-view+json": {
       "model_id": "26606c87cd11492da2ac7adb66fd7e98",
       "version_major": 2,
       "version_minor": 0
      },
      "text/plain": [
       "  0%|          | 0/1000 [00:00<?, ?it/s]"
      ]
     },
     "metadata": {},
     "output_type": "display_data"
    },
    {
     "name": "stdout",
     "output_type": "stream",
     "text": [
      "l = 256\n"
     ]
    },
    {
     "data": {
      "application/vnd.jupyter.widget-view+json": {
       "model_id": "d24b7a41f93a440792bd360b23a3576b",
       "version_major": 2,
       "version_minor": 0
      },
      "text/plain": [
       "  0%|          | 0/1000 [00:00<?, ?it/s]"
      ]
     },
     "metadata": {},
     "output_type": "display_data"
    },
    {
     "name": "stdout",
     "output_type": "stream",
     "text": [
      "l = 512\n"
     ]
    },
    {
     "data": {
      "application/vnd.jupyter.widget-view+json": {
       "model_id": "7cb96050e0b94f1caf8ee3888f660bef",
       "version_major": 2,
       "version_minor": 0
      },
      "text/plain": [
       "  0%|          | 0/1000 [00:00<?, ?it/s]"
      ]
     },
     "metadata": {},
     "output_type": "display_data"
    },
    {
     "name": "stdout",
     "output_type": "stream",
     "text": [
      "---f = 0.1---\n"
     ]
    },
    {
     "data": {
      "application/vnd.jupyter.widget-view+json": {
       "model_id": "e5a5063e6d17442384c0466c89307ca0",
       "version_major": 2,
       "version_minor": 0
      },
      "text/plain": [
       "  0%|          | 0/7 [00:00<?, ?it/s]"
      ]
     },
     "metadata": {},
     "output_type": "display_data"
    },
    {
     "name": "stdout",
     "output_type": "stream",
     "text": [
      "l = 8\n"
     ]
    },
    {
     "data": {
      "application/vnd.jupyter.widget-view+json": {
       "model_id": "b4d6aef105064af3b402e1d2e5739ed8",
       "version_major": 2,
       "version_minor": 0
      },
      "text/plain": [
       "  0%|          | 0/1000 [00:00<?, ?it/s]"
      ]
     },
     "metadata": {},
     "output_type": "display_data"
    },
    {
     "name": "stdout",
     "output_type": "stream",
     "text": [
      "l = 16\n"
     ]
    },
    {
     "data": {
      "application/vnd.jupyter.widget-view+json": {
       "model_id": "baa13c33f49640b2b7e6ffc6ed94a05e",
       "version_major": 2,
       "version_minor": 0
      },
      "text/plain": [
       "  0%|          | 0/1000 [00:00<?, ?it/s]"
      ]
     },
     "metadata": {},
     "output_type": "display_data"
    },
    {
     "name": "stdout",
     "output_type": "stream",
     "text": [
      "l = 32\n"
     ]
    },
    {
     "data": {
      "application/vnd.jupyter.widget-view+json": {
       "model_id": "3180525cf6214a12a376e1502287cf70",
       "version_major": 2,
       "version_minor": 0
      },
      "text/plain": [
       "  0%|          | 0/1000 [00:00<?, ?it/s]"
      ]
     },
     "metadata": {},
     "output_type": "display_data"
    },
    {
     "name": "stdout",
     "output_type": "stream",
     "text": [
      "l = 64\n"
     ]
    },
    {
     "data": {
      "application/vnd.jupyter.widget-view+json": {
       "model_id": "fb7ff8d123654bffbe1ee8e16f4d8268",
       "version_major": 2,
       "version_minor": 0
      },
      "text/plain": [
       "  0%|          | 0/1000 [00:00<?, ?it/s]"
      ]
     },
     "metadata": {},
     "output_type": "display_data"
    },
    {
     "name": "stdout",
     "output_type": "stream",
     "text": [
      "l = 128\n"
     ]
    },
    {
     "data": {
      "application/vnd.jupyter.widget-view+json": {
       "model_id": "c4dd8ee7f9f44573a8f0910316aa12c6",
       "version_major": 2,
       "version_minor": 0
      },
      "text/plain": [
       "  0%|          | 0/1000 [00:00<?, ?it/s]"
      ]
     },
     "metadata": {},
     "output_type": "display_data"
    },
    {
     "name": "stdout",
     "output_type": "stream",
     "text": [
      "l = 256\n"
     ]
    },
    {
     "data": {
      "application/vnd.jupyter.widget-view+json": {
       "model_id": "8a319ff045da4d0f8ea2ec0cf0c9d393",
       "version_major": 2,
       "version_minor": 0
      },
      "text/plain": [
       "  0%|          | 0/1000 [00:00<?, ?it/s]"
      ]
     },
     "metadata": {},
     "output_type": "display_data"
    },
    {
     "name": "stdout",
     "output_type": "stream",
     "text": [
      "l = 512\n"
     ]
    },
    {
     "data": {
      "application/vnd.jupyter.widget-view+json": {
       "model_id": "d1194d103c824dda92435e1491c0c4a6",
       "version_major": 2,
       "version_minor": 0
      },
      "text/plain": [
       "  0%|          | 0/1000 [00:00<?, ?it/s]"
      ]
     },
     "metadata": {},
     "output_type": "display_data"
    }
   ],
   "source": [
    "#---Compute statistics for finite f---#\n",
    "#(Do not execute this cell if you don't want to recompute all the statistics, since it can take a long time)\n",
    "\n",
    "list_lengths = [8, 16, 32, 64, 128, 256, 512]\n",
    "frequencies = [0.01, 0.05, 0.1]\n",
    "\n",
    "N = 100000 #Number of neurons\n",
    "n_rep = 1000\n",
    "\n",
    "stats = {}\n",
    "\n",
    "for f in tqdm(frequencies):\n",
    "    results = {}\n",
    "    print(f'---f = {f}---')\n",
    "    for l in tqdm(list_lengths):\n",
    "        print(f'l = {l}')\n",
    "        means = []\n",
    "        for i in tqdm(range(n_rep)):\n",
    "            r = simulate_sparse_dynamics(1, L=l, N=N, f=f)\n",
    "            means.append(r)\n",
    "        #r = p_umap(partial(simulate_sparse_dynamics, L=l, N=N, f=f), np.arange(n_rep))\n",
    "        results[l] = means\n",
    "        \n",
    "    stats[f] = results\n",
    "    \n",
    "#Save results to file\n",
    "with open(\"Simulations/statistics_N100k_rep1k\", \"wb\") as file:\n",
    "    pickle.dump(stats, file)"
   ]
  },
  {
   "cell_type": "code",
   "execution_count": 11,
   "id": "oriental-software",
   "metadata": {},
   "outputs": [
    {
     "data": {
      "application/vnd.jupyter.widget-view+json": {
       "model_id": "eef568fc64314af7ab6a19cbba49a1fd",
       "version_major": 2,
       "version_minor": 0
      },
      "text/plain": [
       "  0%|          | 0/7 [00:00<?, ?it/s]"
      ]
     },
     "metadata": {},
     "output_type": "display_data"
    },
    {
     "name": "stdout",
     "output_type": "stream",
     "text": [
      "l = 8\n"
     ]
    },
    {
     "data": {
      "application/vnd.jupyter.widget-view+json": {
       "model_id": "02abd08fb4544a3ead234b2a288bb73e",
       "version_major": 2,
       "version_minor": 0
      },
      "text/plain": [
       "  0%|          | 0/1000 [00:00<?, ?it/s]"
      ]
     },
     "metadata": {},
     "output_type": "display_data"
    },
    {
     "name": "stdout",
     "output_type": "stream",
     "text": [
      "l = 16\n"
     ]
    },
    {
     "data": {
      "application/vnd.jupyter.widget-view+json": {
       "model_id": "8c4a8443e756440d9bd80c83f27166b9",
       "version_major": 2,
       "version_minor": 0
      },
      "text/plain": [
       "  0%|          | 0/1000 [00:00<?, ?it/s]"
      ]
     },
     "metadata": {},
     "output_type": "display_data"
    },
    {
     "name": "stdout",
     "output_type": "stream",
     "text": [
      "l = 32\n"
     ]
    },
    {
     "data": {
      "application/vnd.jupyter.widget-view+json": {
       "model_id": "1adc9d3fbca74e7cba230bc893da2fe8",
       "version_major": 2,
       "version_minor": 0
      },
      "text/plain": [
       "  0%|          | 0/1000 [00:00<?, ?it/s]"
      ]
     },
     "metadata": {},
     "output_type": "display_data"
    },
    {
     "name": "stdout",
     "output_type": "stream",
     "text": [
      "l = 64\n"
     ]
    },
    {
     "data": {
      "application/vnd.jupyter.widget-view+json": {
       "model_id": "f02d0abb3e9c45bb9ef677839668fa30",
       "version_major": 2,
       "version_minor": 0
      },
      "text/plain": [
       "  0%|          | 0/1000 [00:00<?, ?it/s]"
      ]
     },
     "metadata": {},
     "output_type": "display_data"
    },
    {
     "name": "stdout",
     "output_type": "stream",
     "text": [
      "l = 128\n"
     ]
    },
    {
     "data": {
      "application/vnd.jupyter.widget-view+json": {
       "model_id": "e01d85b75f8d43f2870ca61793376ca3",
       "version_major": 2,
       "version_minor": 0
      },
      "text/plain": [
       "  0%|          | 0/1000 [00:00<?, ?it/s]"
      ]
     },
     "metadata": {},
     "output_type": "display_data"
    },
    {
     "name": "stdout",
     "output_type": "stream",
     "text": [
      "l = 256\n"
     ]
    },
    {
     "data": {
      "application/vnd.jupyter.widget-view+json": {
       "model_id": "4b605055a53e45d18fc945f52249f106",
       "version_major": 2,
       "version_minor": 0
      },
      "text/plain": [
       "  0%|          | 0/1000 [00:00<?, ?it/s]"
      ]
     },
     "metadata": {},
     "output_type": "display_data"
    },
    {
     "name": "stdout",
     "output_type": "stream",
     "text": [
      "l = 512\n"
     ]
    },
    {
     "data": {
      "application/vnd.jupyter.widget-view+json": {
       "model_id": "6a7999adc55c45c58827d83548e40736",
       "version_major": 2,
       "version_minor": 0
      },
      "text/plain": [
       "  0%|          | 0/1000 [00:00<?, ?it/s]"
      ]
     },
     "metadata": {},
     "output_type": "display_data"
    }
   ],
   "source": [
    "#---Compute statistics for continuous symmetric matrix---#\n",
    "#(Do not execute this cell if you don't want to recompute all the statistics, since it can take a long time)\n",
    "simulate_sparse_dynamics_symm()\n",
    "\n",
    "stats_symm = []\n",
    "\n",
    "n_rep = 1000\n",
    "\n",
    "for l in tqdm(list_lengths):\n",
    "    print(f'l = {l}')\n",
    "    means = []\n",
    "    for i in tqdm(range(n_rep)):\n",
    "        r = simulate_sparse_dynamics_symm(L=l)\n",
    "        means.append(r)\n",
    "        \n",
    "    stats_symm.append(means)\n",
    "    \n",
    "#Save results to file\n",
    "with open(\"statistics_symm_N100k_rep1k\", \"wb\") as file:\n",
    "    pickle.dump(stats_symm, file)"
   ]
  },
  {
   "cell_type": "code",
   "execution_count": 31,
   "id": "protecting-album",
   "metadata": {},
   "outputs": [
    {
     "name": "stdout",
     "output_type": "stream",
     "text": [
      "           8         16         32         64         128        256  \\\n",
      "0.01  5.467500  7.915063  11.331500  15.839281  22.229539  30.914539   \n",
      "0.05  5.431375  7.668812  10.474219  14.474516  19.679859  26.447430   \n",
      "0.1   5.312750  7.281813   9.846500  13.055750  17.104227  22.360141   \n",
      "symm  5.515875  8.102688  11.806406  16.601766  24.296813  34.088437   \n",
      "\n",
      "            512  \n",
      "0.01  43.319938  \n",
      "0.05  36.358340  \n",
      "0.1   29.328680  \n",
      "symm  48.913699  \n"
     ]
    }
   ],
   "source": [
    "#Load saved data for plotting\n",
    "with open(\"Simulations/statistics_N100k_rep1k\", \"rb\") as file:\n",
    "    stats = pickle.load(file)\n",
    "    \n",
    "with open(\"Simulations/statistics_symm_N100k_rep1k\", \"rb\") as file:\n",
    "    stats_symm = pickle.load(file)\n",
    "    \n",
    "#Convert to Pandas dataframe\n",
    "df_dict = {}\n",
    "for f, l_stats in stats.items():\n",
    "    df_dict[f] = [np.mean(arr) for arr in l_stats.values()]\n",
    "\n",
    "df = pd.DataFrame.from_dict(df_dict, orient='index', columns=list_lengths)\n",
    "\n",
    "df.loc['symm'] = [np.mean(arr) for arr in stats_symm]\n",
    "\n",
    "print(df)"
   ]
  },
  {
   "cell_type": "code",
   "execution_count": 32,
   "id": "medical-midwest",
   "metadata": {},
   "outputs": [
    {
     "data": {
      "image/png": "[encoded data removed]",
      "text/plain": [
       "<Figure size 406.476x251.216 with 1 Axes>"
      ]
     },
     "metadata": {
      "needs_background": "light"
     },
     "output_type": "display_data"
    }
   ],
   "source": [
    "#Plot\n",
    "xs = np.linspace(0, 550, 1000)\n",
    "\n",
    "with mpl2latex(False): #True to enable LaTeX export\n",
    "    fig, ax = plt.subplots(figsize=latex_figsize(wf=.8))\n",
    "\n",
    "    ax.plot(xs, np.sqrt(1.5 * np.pi * xs), '-', c='black', label=r\"$\\sqrt{1.5\\pi L}$\")\n",
    "    ax.plot(list_lengths, df.loc[0.01], '-o', c='orange', markersize=4, label='$f=0.01$')\n",
    "    ax.plot(list_lengths, df.loc[0.05], '-o', c='magenta', markersize=4, label='$f=0.05$')\n",
    "    ax.plot(list_lengths, df.loc[0.1], '-o', c='green', markersize=4, label='$f=0.1$')\n",
    "    ax.plot(list_lengths, df.loc[\"symm\"], '-o', c='blue', markersize=4, label='Symmetric')\n",
    "\n",
    "    ax.set_xlabel(\"List length $L$\")\n",
    "    ax.set_ylabel(\"Recalled items $R$\")\n",
    "\n",
    "    plt.legend()\n",
    "    \n",
    "    ax.patch.set_facecolor('white')\n",
    "    ax.patch.set_alpha(1.)\n",
    "    \n",
    "    fig.patch.set_facecolor('white')\n",
    "    fig.patch.set_alpha(0.)\n",
    "    \n",
    "    plt.savefig(\"Plots/reco_sim.pdf\", bbox_inches='tight', facecolor=fig.get_facecolor(), edgecolor='none') # \n",
    "    \n",
    "    plt.show()"
   ]
  },
  {
   "cell_type": "code",
   "execution_count": null,
   "id": "developed-interview",
   "metadata": {},
   "outputs": [],
   "source": []
  }
 ],
 "metadata": {
  "kernelspec": {
   "display_name": "Python 3",
   "language": "python",
   "name": "python3"
  },
  "language_info": {
   "codemirror_mode": {
    "name": "ipython",
    "version": 3
   },
   "file_extension": ".py",
   "mimetype": "text/x-python",
   "name": "python",
   "nbconvert_exporter": "python",
   "pygments_lexer": "ipython3",
   "version": "3.9.0"
  }
 },
 "nbformat": 4,
 "nbformat_minor": 5
}
